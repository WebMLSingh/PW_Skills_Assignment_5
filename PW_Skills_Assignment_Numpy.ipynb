{
  "nbformat": 4,
  "nbformat_minor": 0,
  "metadata": {
    "colab": {
      "provenance": []
    },
    "kernelspec": {
      "name": "python3",
      "display_name": "Python 3"
    },
    "language_info": {
      "name": "python"
    }
  },
  "cells": [
    {
      "cell_type": "markdown",
      "source": [
        "1. Create a 3x3 NumPy array with random integers between 1 and 100. Then, interchange its rows and columns."
      ],
      "metadata": {
        "id": "v2sAO2-RYWnj"
      }
    },
    {
      "cell_type": "code",
      "execution_count": 1,
      "metadata": {
        "colab": {
          "base_uri": "https://localhost:8080/"
        },
        "id": "7IM_c_rOYVhF",
        "outputId": "d0b22d13-6613-479d-e10e-a79d3a52324e"
      },
      "outputs": [
        {
          "output_type": "stream",
          "name": "stdout",
          "text": [
            "Original Array:\n",
            "[[51 35 87]\n",
            " [27 66 39]\n",
            " [31 16 79]]\n",
            "\n",
            "Transposed Array:\n",
            "[[51 27 31]\n",
            " [35 66 16]\n",
            " [87 39 79]]\n"
          ]
        }
      ],
      "source": [
        "import numpy as np\n",
        "\n",
        "# Create a 3x3 array with random integers between 1 and 100\n",
        "arr = np.random.randint(1, 101, size=(3, 3))\n",
        "print(\"Original Array:\")\n",
        "print(arr)\n",
        "\n",
        "# Interchange rows and columns (Transpose)\n",
        "transposed_arr = arr.T\n",
        "print(\"\\nTransposed Array:\")\n",
        "print(transposed_arr)\n"
      ]
    },
    {
      "cell_type": "markdown",
      "source": [
        "2. Generate a 1D NumPy array with 10 elements. Reshape it into a 2x5 array, then into a 5x2 array."
      ],
      "metadata": {
        "id": "Rnrn4XTpsKAF"
      }
    },
    {
      "cell_type": "code",
      "source": [
        "import numpy as np\n",
        "\n",
        "# Generate a 1D array with 10 elements\n",
        "arr = np.arange(10)\n",
        "print(\"Original 1D Array:\")\n",
        "print(arr)\n",
        "\n",
        "# Reshape into a 2x5 array\n",
        "arr_2x5 = arr.reshape(2, 5)\n",
        "print(\"\\nReshaped into 2x5 Array:\")\n",
        "print(arr_2x5)\n",
        "\n",
        "# Reshape into a 5x2 array\n",
        "arr_5x2 = arr.reshape(5, 2)\n",
        "print(\"\\nReshaped into 5x2 Array:\")\n",
        "print(arr_5x2)\n"
      ],
      "metadata": {
        "colab": {
          "base_uri": "https://localhost:8080/"
        },
        "id": "BAYWDb1hsJo6",
        "outputId": "c5542810-def7-4acc-8be4-e4906208cd39"
      },
      "execution_count": 2,
      "outputs": [
        {
          "output_type": "stream",
          "name": "stdout",
          "text": [
            "Original 1D Array:\n",
            "[0 1 2 3 4 5 6 7 8 9]\n",
            "\n",
            "Reshaped into 2x5 Array:\n",
            "[[0 1 2 3 4]\n",
            " [5 6 7 8 9]]\n",
            "\n",
            "Reshaped into 5x2 Array:\n",
            "[[0 1]\n",
            " [2 3]\n",
            " [4 5]\n",
            " [6 7]\n",
            " [8 9]]\n"
          ]
        }
      ]
    },
    {
      "cell_type": "markdown",
      "source": [
        "3. Create a 4x4 NumPy array with random float values. Add a border of zeros around it, resulting in a 6x6 array"
      ],
      "metadata": {
        "id": "cS2Aqyy7sV6g"
      }
    },
    {
      "cell_type": "code",
      "source": [
        "import numpy as np\n",
        "\n",
        "# Create a 4x4 array with random float values\n",
        "arr = np.random.rand(4, 4)\n",
        "print(\"Original 4x4 Array:\")\n",
        "print(arr)\n",
        "\n",
        "# Add a border of zeros around the array\n",
        "bordered_arr = np.pad(arr, pad_width=1, mode='constant', constant_values=0)\n",
        "print(\"\\n6x6 Array with a Border of Zeros:\")\n",
        "print(bordered_arr)\n"
      ],
      "metadata": {
        "colab": {
          "base_uri": "https://localhost:8080/"
        },
        "id": "WowRWCWhsWuv",
        "outputId": "273b6c22-4a41-4a5f-a3ff-ef8ca500be87"
      },
      "execution_count": 3,
      "outputs": [
        {
          "output_type": "stream",
          "name": "stdout",
          "text": [
            "Original 4x4 Array:\n",
            "[[0.53150626 0.89128508 0.03853383 0.92029095]\n",
            " [0.80510901 0.83689851 0.17288873 0.85731589]\n",
            " [0.85932244 0.05698543 0.43244141 0.56581399]\n",
            " [0.60318143 0.97233298 0.24102208 0.061473  ]]\n",
            "\n",
            "6x6 Array with a Border of Zeros:\n",
            "[[0.         0.         0.         0.         0.         0.        ]\n",
            " [0.         0.53150626 0.89128508 0.03853383 0.92029095 0.        ]\n",
            " [0.         0.80510901 0.83689851 0.17288873 0.85731589 0.        ]\n",
            " [0.         0.85932244 0.05698543 0.43244141 0.56581399 0.        ]\n",
            " [0.         0.60318143 0.97233298 0.24102208 0.061473   0.        ]\n",
            " [0.         0.         0.         0.         0.         0.        ]]\n"
          ]
        }
      ]
    },
    {
      "cell_type": "markdown",
      "source": [
        "4. Using NumPy, create an array of integers from 10 to 60 with a step of 5"
      ],
      "metadata": {
        "id": "6sAr853Ps64p"
      }
    },
    {
      "cell_type": "code",
      "source": [
        "import numpy as np\n",
        "\n",
        "# Create an array of integers from 10 to 60 with a step of 5\n",
        "arr = np.arange(10, 61, 5)\n",
        "print(arr)\n"
      ],
      "metadata": {
        "colab": {
          "base_uri": "https://localhost:8080/"
        },
        "id": "5FKTeZxzs7aH",
        "outputId": "0491fbdf-53dc-48ca-9545-c93fd5a44f7d"
      },
      "execution_count": 4,
      "outputs": [
        {
          "output_type": "stream",
          "name": "stdout",
          "text": [
            "[10 15 20 25 30 35 40 45 50 55 60]\n"
          ]
        }
      ]
    },
    {
      "cell_type": "markdown",
      "source": [
        "5. Create a NumPy array of strings ['python', 'numpy', 'pandas']. Apply different case transformations (uppercase, lowercase, title case, etc.) to each element"
      ],
      "metadata": {
        "id": "sfOPhMu_tGNx"
      }
    },
    {
      "cell_type": "code",
      "source": [
        "import numpy as np\n",
        "\n",
        "# Create a NumPy array of strings\n",
        "arr = np.array(['python', 'numpy', 'pandas'])\n",
        "\n",
        "# Apply different case transformations\n",
        "uppercase_arr = np.char.upper(arr)\n",
        "lowercase_arr = np.char.lower(arr)\n",
        "titlecase_arr = np.char.title(arr)\n",
        "capitalize_arr = np.char.capitalize(arr)\n",
        "\n",
        "# Display the results\n",
        "print(\"Original Array:\")\n",
        "print(arr)\n",
        "\n",
        "print(\"\\nUppercase Transformation:\")\n",
        "print(uppercase_arr)\n",
        "\n",
        "print(\"\\nLowercase Transformation:\")\n",
        "print(lowercase_arr)\n",
        "\n",
        "print(\"\\nTitle Case Transformation:\")\n",
        "print(titlecase_arr)\n",
        "\n",
        "print(\"\\nCapitalize Transformation:\")\n",
        "print(capitalize_arr)\n"
      ],
      "metadata": {
        "colab": {
          "base_uri": "https://localhost:8080/"
        },
        "id": "tQemLh0otGve",
        "outputId": "e62f69c1-c334-4590-c9a4-e5dc1f4da0af"
      },
      "execution_count": 5,
      "outputs": [
        {
          "output_type": "stream",
          "name": "stdout",
          "text": [
            "Original Array:\n",
            "['python' 'numpy' 'pandas']\n",
            "\n",
            "Uppercase Transformation:\n",
            "['PYTHON' 'NUMPY' 'PANDAS']\n",
            "\n",
            "Lowercase Transformation:\n",
            "['python' 'numpy' 'pandas']\n",
            "\n",
            "Title Case Transformation:\n",
            "['Python' 'Numpy' 'Pandas']\n",
            "\n",
            "Capitalize Transformation:\n",
            "['Python' 'Numpy' 'Pandas']\n"
          ]
        }
      ]
    },
    {
      "cell_type": "markdown",
      "source": [
        "6. Generate a NumPy array of words. Insert a space between each character of every word in the array."
      ],
      "metadata": {
        "id": "zoAlhOWjtLCK"
      }
    },
    {
      "cell_type": "code",
      "source": [
        "import numpy as np\n",
        "\n",
        "# Create a NumPy array of words\n",
        "words = np.array(['hello', 'numpy', 'array'])\n",
        "\n",
        "# Insert a space between each character of every word\n",
        "spaced_words = np.char.join(' ', words)\n",
        "\n",
        "# Display the results\n",
        "print(\"Original Array of Words:\")\n",
        "print(words)\n",
        "\n",
        "print(\"\\nArray with Spaces Between Characters:\")\n",
        "for word in spaced_words:\n",
        "    print(word)\n"
      ],
      "metadata": {
        "colab": {
          "base_uri": "https://localhost:8080/"
        },
        "id": "luVjI29etNMI",
        "outputId": "814bb939-182f-40c1-d1ea-76a7b7f87d98"
      },
      "execution_count": 6,
      "outputs": [
        {
          "output_type": "stream",
          "name": "stdout",
          "text": [
            "Original Array of Words:\n",
            "['hello' 'numpy' 'array']\n",
            "\n",
            "Array with Spaces Between Characters:\n",
            "h e l l o\n",
            "n u m p y\n",
            "a r r a y\n"
          ]
        }
      ]
    },
    {
      "cell_type": "markdown",
      "source": [
        "7. Create two 2D NumPy arrays and perform element-wise addition, subtraction, multiplication, and division"
      ],
      "metadata": {
        "id": "C0bfFnaEtV3R"
      }
    },
    {
      "cell_type": "code",
      "source": [
        "import numpy as np\n",
        "\n",
        "# Create two 2D NumPy arrays\n",
        "array1 = np.array([[1, 2, 3],\n",
        "                   [4, 5, 6]])\n",
        "\n",
        "array2 = np.array([[7, 8, 9],\n",
        "                   [10, 11, 12]])\n",
        "\n",
        "# Perform element-wise addition\n",
        "addition = array1 + array2\n",
        "print(\"Element-wise Addition:\")\n",
        "print(addition)\n",
        "\n",
        "# Perform element-wise subtraction\n",
        "subtraction = array1 - array2\n",
        "print(\"\\nElement-wise Subtraction:\")\n",
        "print(subtraction)\n",
        "\n",
        "# Perform element-wise multiplication\n",
        "multiplication = array1 * array2\n",
        "print(\"\\nElement-wise Multiplication:\")\n",
        "print(multiplication)\n",
        "\n",
        "# Perform element-wise division\n",
        "division = array1 / array2\n",
        "print(\"\\nElement-wise Division:\")\n",
        "print(division)\n"
      ],
      "metadata": {
        "colab": {
          "base_uri": "https://localhost:8080/"
        },
        "id": "-u0yZ_w1tXuq",
        "outputId": "d5a7344c-24ce-4d0b-938f-d705e1612cf1"
      },
      "execution_count": 7,
      "outputs": [
        {
          "output_type": "stream",
          "name": "stdout",
          "text": [
            "Element-wise Addition:\n",
            "[[ 8 10 12]\n",
            " [14 16 18]]\n",
            "\n",
            "Element-wise Subtraction:\n",
            "[[-6 -6 -6]\n",
            " [-6 -6 -6]]\n",
            "\n",
            "Element-wise Multiplication:\n",
            "[[ 7 16 27]\n",
            " [40 55 72]]\n",
            "\n",
            "Element-wise Division:\n",
            "[[0.14285714 0.25       0.33333333]\n",
            " [0.4        0.45454545 0.5       ]]\n"
          ]
        }
      ]
    },
    {
      "cell_type": "markdown",
      "source": [
        "8. Use NumPy to create a 5x5 identity matrix, then extract its diagonal elements"
      ],
      "metadata": {
        "id": "t-FcDtyRtb85"
      }
    },
    {
      "cell_type": "code",
      "source": [
        "import numpy as np\n",
        "\n",
        "# Create a 5x5 identity matrix\n",
        "identity_matrix = np.eye(5)\n",
        "print(\"5x5 Identity Matrix:\")\n",
        "print(identity_matrix)\n",
        "\n",
        "# Extract the diagonal elements\n",
        "diagonal_elements = np.diag(identity_matrix)\n",
        "print(\"\\nDiagonal Elements:\")\n",
        "print(diagonal_elements)\n"
      ],
      "metadata": {
        "colab": {
          "base_uri": "https://localhost:8080/"
        },
        "id": "YJ-umGlmtdiR",
        "outputId": "4ea493e2-f4d3-4ba8-fef6-214f4d5f7fe2"
      },
      "execution_count": 8,
      "outputs": [
        {
          "output_type": "stream",
          "name": "stdout",
          "text": [
            "5x5 Identity Matrix:\n",
            "[[1. 0. 0. 0. 0.]\n",
            " [0. 1. 0. 0. 0.]\n",
            " [0. 0. 1. 0. 0.]\n",
            " [0. 0. 0. 1. 0.]\n",
            " [0. 0. 0. 0. 1.]]\n",
            "\n",
            "Diagonal Elements:\n",
            "[1. 1. 1. 1. 1.]\n"
          ]
        }
      ]
    },
    {
      "cell_type": "markdown",
      "source": [
        "9. Generate a NumPy array of 100 random integers between 0 and 1000. Find and display all prime numbers in this array."
      ],
      "metadata": {
        "id": "3fTrJwaWti7p"
      }
    },
    {
      "cell_type": "code",
      "source": [
        "import numpy as np\n",
        "\n",
        "# Generate an array of 100 random integers between 0 and 1000\n",
        "random_integers = np.random.randint(0, 1001, size=100)\n",
        "print(\"Random Integers Array:\")\n",
        "print(random_integers)\n",
        "\n",
        "# Function to check if a number is prime\n",
        "def is_prime(n):\n",
        "    if n <= 1:\n",
        "        return False\n",
        "    for i in range(2, int(n**0.5) + 1):\n",
        "        if n % i == 0:\n",
        "            return False\n",
        "    return True\n",
        "\n",
        "# Find and display all prime numbers in the array\n",
        "prime_numbers = [num for num in random_integers if is_prime(num)]\n",
        "print(\"\\nPrime Numbers in the Array:\")\n",
        "print(prime_numbers)\n"
      ],
      "metadata": {
        "colab": {
          "base_uri": "https://localhost:8080/"
        },
        "id": "2KL1wjt5tj-A",
        "outputId": "6ac98279-9711-46c8-f75f-37af4ba51907"
      },
      "execution_count": 9,
      "outputs": [
        {
          "output_type": "stream",
          "name": "stdout",
          "text": [
            "Random Integers Array:\n",
            "[573 967 476  83 781 583  48  69 275 674 734 272  95 592 879 587 538 115\n",
            " 132 205 628 944 594 597 610 478 399 226 250 709 690 238 441 414 191 807\n",
            " 443 218 679 196 983 119 212  62 648  34 770 935 978 364 641 791 949 767\n",
            " 121 597 689 559 501  92 161 141 977 805 290 794 143 576 150 495 316 488\n",
            " 255 228 661 924 636 476 351 947 372 963 274 843 853 429 642 763 426 573\n",
            " 720  22 194 367 756 316 772 559 511 733]\n",
            "\n",
            "Prime Numbers in the Array:\n",
            "[967, 83, 587, 709, 191, 443, 983, 641, 977, 661, 947, 853, 367, 733]\n"
          ]
        }
      ]
    },
    {
      "cell_type": "markdown",
      "source": [
        "10. Create a NumPy array representing daily temperatures for a month. Calculate and display the weekly averages"
      ],
      "metadata": {
        "id": "5gDcBVlktrg2"
      }
    },
    {
      "cell_type": "code",
      "source": [
        "import numpy as np\n",
        "\n",
        "# Create a NumPy array representing daily temperatures for a month (30 days)\n",
        "# Here we simulate temperatures between 20 and 35 degrees Celsius\n",
        "daily_temperatures = np.random.uniform(20, 35, size=30)\n",
        "print(\"Daily Temperatures for a Month:\")\n",
        "print(daily_temperatures)\n",
        "\n",
        "# Calculate the weekly averages\n",
        "# Reshape the array to have 4 weeks (considering 30 days)\n",
        "weekly_averages = daily_temperatures.reshape(5,6).mean(axis=1)\n",
        "\n",
        "# Display the weekly averages\n",
        "print(\"\\nWeekly Averages:\")\n",
        "print(weekly_averages)\n"
      ],
      "metadata": {
        "colab": {
          "base_uri": "https://localhost:8080/"
        },
        "id": "Z6v_YRkUtr__",
        "outputId": "4d4dcd86-12bb-4332-8ff7-d6589974d27e"
      },
      "execution_count": 11,
      "outputs": [
        {
          "output_type": "stream",
          "name": "stdout",
          "text": [
            "Daily Temperatures for a Month:\n",
            "[20.01997059 28.15320613 28.71725828 26.0740004  23.56625334 24.17572515\n",
            " 24.30874247 31.94993106 29.58995756 34.97499993 29.83970635 32.55727661\n",
            " 25.10020825 33.29585385 25.14679835 21.38322965 27.11062531 28.15128707\n",
            " 34.11984191 26.30390217 25.87684242 30.01280915 24.14462794 28.50235684\n",
            " 25.32172568 29.3516577  24.28566517 28.61812306 20.72724267 30.53988766]\n",
            "\n",
            "Weekly Averages:\n",
            "[25.11773565 30.536769   26.69800041 28.16006341 26.47405032]\n"
          ]
        }
      ]
    }
  ]
}